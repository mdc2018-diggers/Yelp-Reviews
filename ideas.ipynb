{
 "cells": [
  {
   "cell_type": "markdown",
   "metadata": {},
   "source": [
    "# Ideias?\n",
    "- Modelo preditivo de empresa com sucesso ou não\n",
    "- Classificar usuários como bons ruins ou neutros\n",
    "- Clusterizar tipos de estabelecimentos pelo texto (Reviews+Tips -> category)\n",
    "- Clusterizar reviews para encontrar assuntos comuns\n",
    "- Inferir lugar do usuários\n",
    "\n",
    "- Horário <-> Tipo de estabelecimentos\n",
    "- Concorrentes -> Densidade de vizinhos, densidade populacional\n",
    "- Clima <-> Quantidade e pontuação de review\n",
    "- Avaliar se atributos são densos o suficiente\n",
    "- Identificar horáros de pico\n",
    "\n",
    "- Ver se horários de horários de tip + review batem com horários de checkin\n",
    "- Dia da semana com Nota -> Qual dia é melhor? Depende da categoria?\n",
    "- Quantidade de checkins <-> Nota (Muito lotado? Muito vazio?)\n",
    "\n"
   ]
  },
  {
   "cell_type": "markdown",
   "metadata": {},
   "source": [
    "## Classificar usuários como bons ruins ou neutros\n",
    "\n",
    "- Podemos fazer apenas para usuário com mais de X reviews\n",
    "- Levar em consideração a nota média do lugar\n",
    "- Encontrar uma função (nota-média da empresa -> Nota dada pelo usuário). Possivelmente linear, já que será feita uma regressão para cada usuário, portanto são poucos dados.\n",
    "- Exibir um histograma com os parâmetros de curva encontrados"
   ]
  },
  {
   "cell_type": "markdown",
   "metadata": {},
   "source": [
    "## Inferir tipo de estabelecimentos pelo texto (Reviews+Tips -> category)\n",
    "- Treinar uma rede neural que tem como entrada o texto e como saida a probabilidade de pertencer a cada uma das categorias\n",
    "\n",
    "- A entrada pode ser convertida em um representação vetorial interna através de bag-of-words, [universal-sentence-encoder](https://www.tensorflow.org/hub/modules/google/universal-sentence-encoder/2), ou algo do tipo"
   ]
  },
  {
   "cell_type": "markdown",
   "metadata": {},
   "source": [
    "## Inferir tipo de estabelecimentos pelo horários dos checkins (checkins -> category)\n",
    "Treinar uma rede neural que tem como entrada o histograma (normalizado) de checkins e como saida a probabilidade de pertencer a cada uma das categorias"
   ]
  },
  {
   "cell_type": "markdown",
   "metadata": {},
   "source": [
    "## Inferir lugar do usuários\n",
    "\n",
    "- Faz join entre business, review e tip para saber a lat/lng de todas as iterações do usuário\n",
    "- Clusteriza iterações de cada usuário, onde eventos a menos de 10km de distancia pertencem ao mesmo cluster\n",
    "- Associa usuário ao centróide do cluster com mais elementos"
   ]
  }
 ],
 "metadata": {
  "kernelspec": {
   "display_name": "Python 3",
   "language": "python",
   "name": "python3"
  },
  "language_info": {
   "codemirror_mode": {
    "name": "ipython",
    "version": 3
   },
   "file_extension": ".py",
   "mimetype": "text/x-python",
   "name": "python",
   "nbconvert_exporter": "python",
   "pygments_lexer": "ipython3",
   "version": "3.5.2"
  }
 },
 "nbformat": 4,
 "nbformat_minor": 2
}
