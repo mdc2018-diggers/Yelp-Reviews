{
 "cells": [
  {
   "cell_type": "code",
   "execution_count": 1,
   "metadata": {},
   "outputs": [],
   "source": [
    "!pip install -q ipyleaflet scipy\n",
    "\n",
    "import itertools\n",
    "import math\n",
    "\n",
    "import numpy as np\n",
    "import matplotlib.pyplot as plt\n",
    "import matplotlib\n",
    "import ipywidgets as widgets\n",
    "\n",
    "from scipy.cluster.hierarchy import linkage, dendrogram\n",
    "from collections import defaultdict\n",
    "from util import dataset\n",
    "from util.geo import mean_latlong, latlong_from_3d, latlong_to_3d, euclidian_dist, haversine_dist\n",
    "\n",
    "from ipyleaflet import Marker, Map, CircleMarker, MarkerCluster"
   ]
  },
  {
   "cell_type": "markdown",
   "metadata": {},
   "source": [
    "## Inferir lugar do usuários\n",
    "\n",
    "- Faz join entre business, review e tip para saber a lat/lng de todas as iterações do usuário\n",
    "- Clusteriza iterações de cada usuário, onde eventos a menos de 10km de distancia pertencem ao mesmo cluster\n",
    "- Associa usuário ao centróide do cluster com mais elementos"
   ]
  },
  {
   "cell_type": "code",
   "execution_count": 2,
   "metadata": {},
   "outputs": [
    {
     "data": {
      "text/plain": [
       "1518168"
      ]
     },
     "execution_count": 2,
     "metadata": {},
     "output_type": "execute_result"
    }
   ],
   "source": [
    "user_names = {\n",
    "    user['user_id']: user['name']\n",
    "    for user in dataset.read('user')\n",
    "}\n",
    "len(user_names)"
   ]
  },
  {
   "cell_type": "code",
   "execution_count": 3,
   "metadata": {},
   "outputs": [],
   "source": [
    "business_latlng = {\n",
    "    x['business_id']: (x['latitude'], x['longitude'])\n",
    "    for x in dataset.read('business')\n",
    "    if x['latitude'] is not None and x['longitude'] is not None\n",
    "}"
   ]
  },
  {
   "cell_type": "code",
   "execution_count": 4,
   "metadata": {},
   "outputs": [
    {
     "data": {
      "text/plain": [
       "1518142"
      ]
     },
     "execution_count": 4,
     "metadata": {},
     "output_type": "execute_result"
    }
   ],
   "source": [
    "user_locs = defaultdict(list)\n",
    "for row in itertools.chain(dataset.read('tip'), dataset.read('review')):\n",
    "    loc = business_latlng.get(row['business_id'], None)\n",
    "    if loc is not None:\n",
    "        user_locs[row['user_id']].append(loc)\n",
    "len(user_locs)"
   ]
  },
  {
   "cell_type": "code",
   "execution_count": 5,
   "metadata": {},
   "outputs": [
    {
     "data": {
      "text/plain": [
       "76"
      ]
     },
     "execution_count": 5,
     "metadata": {},
     "output_type": "execute_result"
    }
   ],
   "source": [
    "user_locs_big = {\n",
    "    id: locs\n",
    "    for id, locs in user_locs.items()\n",
    "    if len(locs) > 100 and len(locs) < 102\n",
    "}\n",
    "len(user_locs_big)"
   ]
  },
  {
   "cell_type": "code",
   "execution_count": 6,
   "metadata": {},
   "outputs": [
    {
     "data": {
      "image/png": "[encoded data removed]",
      "text/plain": [
       "<Figure size 432x288 with 1 Axes>"
      ]
     },
     "metadata": {},
     "output_type": "display_data"
    }
   ],
   "source": [
    "dists1=[]\n",
    "dists2=[]\n",
    "for user, locs in user_locs_big.items():\n",
    "    for loc1 in locs:\n",
    "        for loc2 in locs:\n",
    "            if loc1 != loc2:\n",
    "                try:\n",
    "                    dists1.append(haversine_dist(loc1, loc2))\n",
    "                    dists2.append(euclidian_dist(latlong_to_3d(loc1), latlong_to_3d(loc2)))\n",
    "                except:\n",
    "                    print(loc1, loc2)\n",
    "                    raise\n",
    "\n",
    "\n",
    "\n",
    "plt.hist(np.array(dists2) * .9, 50, range=(0,100))\n",
    "plt.hist(dists1, 50, range=(0,100))\n",
    "plt.title(\"Gaussian Histogram\")\n",
    "plt.xlabel(\"Value\")\n",
    "#plt.xscale('log')\n",
    "plt.ylabel(\"Frequency\")\n",
    "plt.show()"
   ]
  },
  {
   "cell_type": "code",
   "execution_count": 7,
   "metadata": {
    "scrolled": false
   },
   "outputs": [],
   "source": [
    "def fancy_dendrogram(*args, **kwargs):\n",
    "    max_d = kwargs.pop('max_d', None)\n",
    "    if max_d and 'color_threshold' not in kwargs:\n",
    "        kwargs['color_threshold'] = max_d\n",
    "    annotate_above = kwargs.pop('annotate_above', 0)\n",
    "\n",
    "    ddata = dendrogram(*args, **kwargs)\n",
    "\n",
    "    if not kwargs.get('no_plot', False):\n",
    "        plt.title('Hierarchical Clustering Dendrogram (truncated)')\n",
    "        plt.xlabel('sample index or (cluster size)')\n",
    "        plt.ylabel('distance')\n",
    "        #plt.loglog()\n",
    "        for i, d, c in zip(ddata['icoord'], ddata['dcoord'], ddata['color_list']):\n",
    "            x = 0.5 * sum(i[1:3])\n",
    "            y = d[1]\n",
    "            if y > annotate_above:\n",
    "                plt.plot(x, y, 'o', c=c)\n",
    "                plt.annotate(\"%.3g\" % y, (x, y), xytext=(0, -5),\n",
    "                             textcoords='offset points',\n",
    "                             va='top', ha='center')\n",
    "        if max_d:\n",
    "            plt.axhline(y=max_d, c='k')\n",
    "    return ddata\n",
    "\n",
    "def show_map(locs):\n",
    "    out = widgets.Output()\n",
    "    with out:\n",
    "\n",
    "        locs_3d = np.array([latlong_to_3d(loc) for loc in locs])       \n",
    "        center = latlong_from_3d([\n",
    "            sum(loc_3d[i] for loc_3d in locs_3d) / len(locs_3d)\n",
    "            for i in range(3)\n",
    "        ])\n",
    "        map = Map(center=center, zoom=5, prefer_canvas=True)\n",
    "\n",
    "        marker_cluster = MarkerCluster(\n",
    "            maxClusterRadius=5,\n",
    "            markers=[\n",
    "                Marker(\n",
    "                    #title=loc[0],\n",
    "                    location=loc, \n",
    "                    #draggable=False,\n",
    "                    #radius=10,\n",
    "                    #stroke=False,\n",
    "                    #fill_opacity=1,\n",
    "                    #fill_color=matplotlib.colors.to_hex(color)\n",
    "                )\n",
    "                for loc in locs\n",
    "            ])\n",
    "\n",
    "        map.add_layer(marker_cluster);\n",
    "        display(map)\n",
    "        \n",
    "        links = linkage(locs_3d)\n",
    "        plt.figure(figsize=(10,10))\n",
    "        dendrogram = fancy_dendrogram(\n",
    "            links,\n",
    "            truncate_mode='lastp',\n",
    "            p=30,\n",
    "            leaf_rotation=90.,\n",
    "            leaf_font_size=12.,\n",
    "            show_contracted=True,\n",
    "            annotate_above=40,\n",
    "            max_d=40,\n",
    "        )\n",
    "        plt.show()\n",
    "\n",
    "    \n",
    "    return out"
   ]
  },
  {
   "cell_type": "code",
   "execution_count": null,
   "metadata": {},
   "outputs": [
    {
     "data": {
      "application/vnd.jupyter.widget-view+json": {
       "model_id": "60862637738f439b93df98a57f295a30",
       "version_major": 2,
       "version_minor": 0
      },
      "text/plain": [
       "Dropdown(description='User', options=(('Larry', 'jfGevhcYLxY13Fa3drpzoA'), ('Yingjie', 'u9ps60AkkW62rimOHGLdbA…"
      ]
     },
     "metadata": {},
     "output_type": "display_data"
    },
    {
     "data": {
      "application/vnd.jupyter.widget-view+json": {
       "model_id": "e1c07273dc504dfda0be10768bc4afe5",
       "version_major": 2,
       "version_minor": 0
      },
      "text/plain": [
       "Box()"
      ]
     },
     "metadata": {},
     "output_type": "display_data"
    }
   ],
   "source": [
    "user_selector = widgets.Dropdown(\n",
    "    options=[\n",
    "        (user_names[user_id], user_id)\n",
    "        for user_id in user_locs_big\n",
    "    ],\n",
    "    value=next(iter(user_locs_big)),\n",
    "    description='User',\n",
    "    disabled=False,\n",
    ")\n",
    "user_view = widgets.Box()\n",
    "display(user_selector, user_view)\n",
    "\n",
    "def show_user(user_id):\n",
    "    user_view.children = [show_map(user_locs[user_id])]\n",
    "user_selector.observe(lambda event: show_user(event['new']), names='value')\n",
    "show_user(user_selector.value)\n"
   ]
  }
 ],
 "metadata": {
  "kernelspec": {
   "display_name": "Python 3",
   "language": "python",
   "name": "python3"
  },
  "language_info": {
   "codemirror_mode": {
    "name": "ipython",
    "version": 3
   },
   "file_extension": ".py",
   "mimetype": "text/x-python",
   "name": "python",
   "nbconvert_exporter": "python",
   "pygments_lexer": "ipython3",
   "version": "3.5.2"
  }
 },
 "nbformat": 4,
 "nbformat_minor": 2
}
