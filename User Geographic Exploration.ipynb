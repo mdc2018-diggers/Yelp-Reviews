{
 "cells": [
  {
   "cell_type": "code",
   "execution_count": 1,
   "metadata": {},
   "outputs": [],
   "source": [
    "!pip install -q ipyleaflet scipy\n",
    "\n",
    "import itertools\n",
    "import math\n",
    "\n",
    "import numpy as np\n",
    "import matplotlib.pyplot as plt\n",
    "import matplotlib\n",
    "import ipywidgets as widgets\n",
    "\n",
    "from scipy.cluster.hierarchy import linkage, dendrogram\n",
    "from collections import defaultdict\n",
    "from util import dataset\n",
    "from util.geo import mean_latlong, latlong_from_3d, latlong_to_3d, euclidian_dist, haversine_dist\n",
    "\n",
    "from ipyleaflet import Marker, Map, CircleMarker, MarkerCluster, LayerGroup"
   ]
  },
  {
   "cell_type": "markdown",
   "metadata": {},
   "source": [
    "## Inferir lugar do usuários\n",
    "\n",
    "- Faz join entre business, review e tip para saber a lat/lng de todas as iterações do usuário\n",
    "- Clusteriza iterações de cada usuário, onde eventos a menos de 10km de distancia pertencem ao mesmo cluster\n",
    "- Associa usuário ao centróide do cluster mais denso\n",
    "\n",
    "### Escolha do cluster\n",
    "\n",
    "Estou usando uma clusterização hierárquica do tipo `Ward`, a qual prioriza a escolha de clusteres densos.\n",
    "\n",
    "Ela funciona muito bem para este problema, e possui uma propriedade muito interessante:\n",
    "- Numa distribuição com densidade uniforme, o custo ~ número de elementos\n",
    "- Portanto a densidade pode ser estimada por `n / cost`.\n",
    "\n",
    "Infelizmente, a escolha do cluster não é tão simples quanto pegar o cluster mais denso, pois os clusteres mais densos são também os menores (Um elemento sozinha possui densidade ∞). Um pequeno cluster extremamente denso não deve ser escolhido quando 80% dos pontos estão do outro lado do país.\n",
    "\n",
    "#### Critério 1\n",
    "A primeira solução envolve algumas heuristicas:\n",
    "- Considerar apenas clusters com pelo menos 10% dos pontos e custo não-zero\n",
    "- Favorecer clusteres maiores, alterando a formula para `√n / cost`.\n",
    "\n",
    "#### Critério 2\n",
    "A segunda solução, também heuristica, funciona de maneira diferente:\n",
    "- Começando pelo último cluster da hierarquia (Que possui todos os elementos)\n",
    "- Enquanto algum dos sub-clusteres possui mais de 60% dos elementos\n",
    "  - descarta o sub-cluster menor\n",
    "\n",
    "Ambas as soluções funcionam bem e são razoávelmente consistentes na maioria dos casos (Mas não em todos)\n",
    "\n",
    "O [Jörn's Blog](https://joernhees.de/blog/2015/08/26/scipy-hierarchical-clustering-and-dendrogram-tutorial/#Selecting-a-Distance-Cut-Off-aka-Determining-the-Number-of-Clusters) sugere algumas outras formas interessantes de escolher a profundidade da clusterização"
   ]
  },
  {
   "cell_type": "code",
   "execution_count": 2,
   "metadata": {},
   "outputs": [
    {
     "data": {
      "text/plain": [
       "1518168"
      ]
     },
     "execution_count": 2,
     "metadata": {},
     "output_type": "execute_result"
    }
   ],
   "source": [
    "user_names = {\n",
    "    user['user_id']: user['name']\n",
    "    for user in dataset.read('user')\n",
    "}\n",
    "len(user_names)"
   ]
  },
  {
   "cell_type": "code",
   "execution_count": 3,
   "metadata": {},
   "outputs": [],
   "source": [
    "business_latlng = {\n",
    "    x['business_id']: (x['latitude'], x['longitude'])\n",
    "    for x in dataset.read('business')\n",
    "    if x['latitude'] is not None and x['longitude'] is not None\n",
    "}"
   ]
  },
  {
   "cell_type": "code",
   "execution_count": 4,
   "metadata": {},
   "outputs": [
    {
     "data": {
      "text/plain": [
       "1518142"
      ]
     },
     "execution_count": 4,
     "metadata": {},
     "output_type": "execute_result"
    }
   ],
   "source": [
    "user_locs = defaultdict(list)\n",
    "for row in itertools.chain(dataset.read('tip'), dataset.read('review')):\n",
    "    loc = business_latlng.get(row['business_id'], None)\n",
    "    if loc is not None:\n",
    "        user_locs[row['user_id']].append(loc)\n",
    "len(user_locs)"
   ]
  },
  {
   "cell_type": "code",
   "execution_count": 5,
   "metadata": {},
   "outputs": [],
   "source": [
    "user_locs = {\n",
    "    user_id: np.array(locs)\n",
    "    for user_id, locs in user_locs.items()\n",
    "}"
   ]
  },
  {
   "cell_type": "code",
   "execution_count": 53,
   "metadata": {},
   "outputs": [
    {
     "data": {
      "text/plain": [
       "50"
      ]
     },
     "execution_count": 53,
     "metadata": {},
     "output_type": "execute_result"
    }
   ],
   "source": [
    "user_locs_big = {\n",
    "    id: locs\n",
    "    for id, locs in user_locs.items()\n",
    "    if len(locs) > 1000\n",
    "}\n",
    "len(user_locs_big)"
   ]
  },
  {
   "cell_type": "code",
   "execution_count": 7,
   "metadata": {},
   "outputs": [
    {
     "data": {
      "image/png": "[encoded data removed]",
      "text/plain": [
       "<Figure size 432x288 with 1 Axes>"
      ]
     },
     "metadata": {},
     "output_type": "display_data"
    }
   ],
   "source": [
    "dists1=[]\n",
    "dists2=[]\n",
    "for user, locs in user_locs_big.items():\n",
    "    for i1, loc1 in enumerate(locs):\n",
    "        for loc2 in locs[i1+1:]:\n",
    "            try:\n",
    "                dists1.append(haversine_dist(loc1, loc2))\n",
    "                dists2.append(euclidian_dist(latlong_to_3d(loc1), latlong_to_3d(loc2)))\n",
    "            except:\n",
    "                print(loc1, loc2)\n",
    "                raise\n",
    "\n",
    "\n",
    "\n",
    "plt.hist(np.array(dists2) * .9, 50, range=(0,100))\n",
    "plt.hist(dists1, 50, range=(0,100))\n",
    "plt.title(\"Gaussian Histogram\")\n",
    "plt.xlabel(\"Value\")\n",
    "#plt.xscale('log')\n",
    "plt.ylabel(\"Frequency\")\n",
    "plt.show()"
   ]
  },
  {
   "cell_type": "code",
   "execution_count": 8,
   "metadata": {},
   "outputs": [],
   "source": [
    "def fancy_dendrogram(*args, **kwargs):\n",
    "    max_d = kwargs.pop('max_d', None)\n",
    "    if max_d and 'color_threshold' not in kwargs:\n",
    "        kwargs['color_threshold'] = max_d\n",
    "    annotate_above = kwargs.pop('annotate_above', 0)\n",
    "\n",
    "    ddata = dendrogram(*args, **kwargs)\n",
    "\n",
    "    if not kwargs.get('no_plot', False):\n",
    "        plt.title('Hierarchical Clustering Dendrogram (truncated)')\n",
    "        plt.xlabel('sample index or (cluster size)')\n",
    "        plt.ylabel('distance')\n",
    "        #plt.loglog()\n",
    "        for i, d, c in zip(ddata['icoord'], ddata['dcoord'], ddata['color_list']):\n",
    "            x = 0.5 * sum(i[1:3])\n",
    "            y = d[1]\n",
    "            if y > annotate_above:\n",
    "                plt.plot(x, y, 'o', c=c)\n",
    "                plt.annotate(\"%.3g\" % y, (x, y), xytext=(0, -5),\n",
    "                             textcoords='offset points',\n",
    "                             va='top', ha='center')\n",
    "        if max_d:\n",
    "            plt.axhline(y=max_d, c='k')\n",
    "    return ddata"
   ]
  },
  {
   "cell_type": "code",
   "execution_count": 51,
   "metadata": {
    "scrolled": false
   },
   "outputs": [],
   "source": [
    "import math\n",
    "\n",
    "def find_cluster_home(points):\n",
    "    points_3d = np.array([latlong_to_3d(point) for point in points])\n",
    "    \n",
    "    links = linkage(points_3d, method='ward')\n",
    "    n_nodes = len(points_3d)\n",
    "    clusters = [\n",
    "        {'n': 1, 'cost': 0, 'nodes': np.array([point]), 'parents': None}\n",
    "        for point in points_3d\n",
    "    ]\n",
    "    for link in links:\n",
    "        a = clusters[int(link[0])]\n",
    "        b = clusters[int(link[1])]\n",
    "        cost = link[2]\n",
    "        clusters.append({\n",
    "            'n': a['n'] + b['n'],\n",
    "            'cost': cost,\n",
    "            'nodes': np.concatenate([a['nodes'], b['nodes']]), \n",
    "            'parents': (int(link[0]), int(link[1])),\n",
    "            #'goodness': (a['cost'] + b['cost']) / cost,\n",
    "        })\n",
    "                                           \n",
    "    for cluster in clusters:\n",
    "        cluster['goodness'] = cluster['cost'] / (cluster['n'] + 1)**.5\n",
    "\n",
    "    best_cluster1 = min(clusters, key=lambda x: x['goodness'] if x['n'] > n_nodes/10 and x['cost'] > 0 else math.inf)\n",
    "    best_cluster1 = latlong_from_3d(best_cluster1['nodes'].mean(axis=0))\n",
    "\n",
    "    if False:\n",
    "        scatter = np.array([\n",
    "            (cluster['n'] + 1e-5, cluster['cost'], cluster['goodness'])\n",
    "            for i, cluster in enumerate(clusters)\n",
    "            if i >= n_nodes\n",
    "        ])\n",
    "        #plt.scatter(scatter[:,0], scatter[:,1])\n",
    "        plt.xlabel('N')\n",
    "        plt.ylabel('cost')\n",
    "        plt.show()\n",
    "        plt.scatter(scatter[:,0], scatter[:,2])\n",
    "        plt.xlabel('N')\n",
    "        plt.ylabel('goodness')\n",
    "        plt.show()\n",
    "    \n",
    "    \n",
    "    \n",
    "    best_cluster2 = clusters[-1]\n",
    "    while True:\n",
    "        if best_cluster2['parents'] is None:\n",
    "            break\n",
    "        a = clusters[best_cluster2['parents'][0]]\n",
    "        b = clusters[best_cluster2['parents'][1]]\n",
    "        if a['n'] > .6 * best_cluster2['n']:\n",
    "            best_cluster2 = a\n",
    "        elif b['n'] > .6 * best_cluster2['n']:\n",
    "            best_cluster2 = b\n",
    "        else:\n",
    "            break\n",
    "            \n",
    "    best_cluster2 = latlong_from_3d(best_cluster2['nodes'].mean(axis=0))\n",
    "    return best_cluster1, best_cluster2\n"
   ]
  },
  {
   "cell_type": "code",
   "execution_count": 56,
   "metadata": {
    "scrolled": false
   },
   "outputs": [],
   "source": [
    "def show_user_map(locs, map):\n",
    "    lat_bounds = (locs[:,0].min(), locs[:,0].max())\n",
    "    lng_bounds = (locs[:,1].min(), locs[:,1].max())\n",
    "    map.center = (sum(lat_bounds)/2, sum(lng_bounds)/2)\n",
    "    map.zoom = math.ceil(7.7-math.log2(max(lat_bounds[1]-lat_bounds[0], lng_bounds[1]-lng_bounds[0])))\n",
    "\n",
    "    home1, home2 = find_cluster_home(locs)\n",
    "    print('cluster found!')\n",
    "\n",
    "    marker_cluster = LayerGroup(\n",
    "        maxClusterRadius=5,\n",
    "        layers=[\n",
    "            CircleMarker(\n",
    "                #title=loc[0],\n",
    "                location=list(loc), \n",
    "                draggable=False,\n",
    "                radius=5,\n",
    "                stroke=False,\n",
    "                fill_opacity=.5,\n",
    "                #fill_color=matplotlib.colors.to_hex(color)\n",
    "            )\n",
    "            for loc in locs\n",
    "        ])\n",
    "\n",
    "    marker_home1 = Marker(\n",
    "        title='Home 1',\n",
    "        location=home1,\n",
    "        draggable=False,\n",
    "    )\n",
    "    marker_home2 = Marker(\n",
    "        title='Home 2',\n",
    "        location=home2, \n",
    "        draggable=False,\n",
    "    )\n",
    "    return [\n",
    "        marker_cluster,\n",
    "        marker_home1,\n",
    "        marker_home2\n",
    "    ]"
   ]
  },
  {
   "cell_type": "code",
   "execution_count": 79,
   "metadata": {
    "scrolled": false
   },
   "outputs": [
    {
     "name": "stdout",
     "output_type": "stream",
     "text": [
      "cluster found!\n"
     ]
    }
   ],
   "source": [
    "user_selector = widgets.Dropdown(\n",
    "    options=[\n",
    "        (user_names[user_id], user_id)\n",
    "        for user_id in user_locs_big\n",
    "    ],\n",
    "    value=next(iter(user_locs_big)),\n",
    "    description='User',\n",
    "    disabled=False,\n",
    ")\n",
    "user_map = Map(prefer_canvas=True)\n",
    "user_map_layers = []\n",
    "\n",
    "output_container = widgets.VBox([])\n",
    "display(user_selector, user_map, output_container)\n",
    "\n",
    "def show_user(user_id):\n",
    "    global user_map_layers\n",
    "    output = widgets.Output()\n",
    "    with output:\n",
    "        for layer in user_map_layers:\n",
    "            user_map.remove_layer(layer)\n",
    "        user_map_layers = show_user_map(user_locs[user_id], user_map)\n",
    "        for layer in user_map_layers:\n",
    "            user_map.add_layer(layer)\n",
    "            \n",
    "    output_container.children = [output]\n",
    "    \n",
    "user_selector.observe(lambda event: show_user(event['new']), names='value')\n",
    "show_user(user_selector.value)\n"
   ]
  },
  {
   "cell_type": "code",
   "execution_count": 74,
   "metadata": {},
   "outputs": [
    {
     "name": "stdout",
     "output_type": "stream",
     "text": [
      "104529/1518142 - 6.89%\n",
      "191078/1518142 - 12.59%\n",
      "278402/1518142 - 18.34%\n",
      "380587/1518142 - 25.07%\n",
      "479326/1518142 - 31.57%\n",
      "601650/1518142 - 39.63%\n",
      "698410/1518142 - 46.00%\n",
      "806855/1518142 - 53.15%\n",
      "931232/1518142 - 61.34%\n",
      "1032977/1518142 - 68.04%\n",
      "1137734/1518142 - 74.94%\n",
      "1262266/1518142 - 83.15%\n",
      "1378787/1518142 - 90.82%\n",
      "1427795/1518142 - 94.05%\n"
     ]
    },
    {
     "data": {
      "text/plain": [
       "5707"
      ]
     },
     "execution_count": 74,
     "metadata": {},
     "output_type": "execute_result"
    }
   ],
   "source": [
    "import time\n",
    "all_user_homes = {}\n",
    "\n",
    "start_time = time.time()\n",
    "last_print_time = start_time\n",
    "for i, (user_id, locs) in enumerate(user_locs.items()):\n",
    "    if len(locs) > 100:\n",
    "        all_user_homes[user_id] = find_cluster_home(locs)\n",
    "        \n",
    "    now = time.time()\n",
    "    if now - last_print_time > 1:\n",
    "        print('%d/%d - %.2f%%' % (i+1, len(user_locs), 100.0 * (i+1) / len(user_locs)))\n",
    "        last_print_time = now\n",
    "len(all_user_homes)"
   ]
  },
  {
   "cell_type": "code",
   "execution_count": 78,
   "metadata": {},
   "outputs": [
    {
     "data": {
      "application/vnd.jupyter.widget-view+json": {
       "model_id": "b54c1d224e36459da176ed3fd0f49063",
       "version_major": 2,
       "version_minor": 0
      },
      "text/plain": [
       "Map(basemap={'attribution': 'Map data (c) <a href=\"https://openstreetmap.org\">OpenStreetMap</a> contributors',…"
      ]
     },
     "metadata": {},
     "output_type": "display_data"
    }
   ],
   "source": [
    "all_users_map = Map(prefer_canvas=False, zoom=2)\n",
    "all_users_map.add_layer(LayerGroup(\n",
    "    layers=[\n",
    "        CircleMarker(\n",
    "            title=user_names[user_id],\n",
    "            location=loc1,\n",
    "            draggable=False,\n",
    "            radius=5,\n",
    "            stroke=False,\n",
    "            fill_opacity=.5,\n",
    "            #fill_color=matplotlib.colors.to_hex(color)\n",
    "        )\n",
    "        for user_id, (loc1, loc2) in all_user_homes.items()\n",
    "    ]))\n",
    "display(all_users_map)"
   ]
  }
 ],
 "metadata": {
  "kernelspec": {
   "display_name": "Python 3",
   "language": "python",
   "name": "python3"
  },
  "language_info": {
   "codemirror_mode": {
    "name": "ipython",
    "version": 3
   },
   "file_extension": ".py",
   "mimetype": "text/x-python",
   "name": "python",
   "nbconvert_exporter": "python",
   "pygments_lexer": "ipython3",
   "version": "3.5.2"
  }
 },
 "nbformat": 4,
 "nbformat_minor": 2
}
